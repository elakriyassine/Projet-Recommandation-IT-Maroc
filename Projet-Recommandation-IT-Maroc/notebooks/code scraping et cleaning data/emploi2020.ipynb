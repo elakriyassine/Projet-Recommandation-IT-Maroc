{
 "cells": [
  {
   "cell_type": "code",
   "execution_count": 1,
   "id": "b321d045-d618-4d99-848c-e7a0e737a411",
   "metadata": {},
   "outputs": [],
   "source": [
    "import pandas as pd\n",
    "from bs4 import BeautifulSoup\n",
    "import requests\n",
    "import time"
   ]
  },
  {
   "cell_type": "code",
   "execution_count": 116,
   "id": "79e0d71e-2f77-4335-b017-0e552d2b5805",
   "metadata": {},
   "outputs": [],
   "source": [
    "headers = {\n",
    "    'User-Agent': 'Mozilla/5.0 (Windows NT 10.0; Win64; x64) AppleWebKit/537.36 (KHTML, like Gecko) Chrome/91.0.4472.124 Safari/537.36'\n",
    "}\n",
    "def scrape_jobs_web_archive(base_url):\n",
    "    \n",
    "        data=[]\n",
    "    \n",
    "       \n",
    "        url=base_url\n",
    "        print(url)\n",
    "        response = requests.get(url, headers=headers)\n",
    "        print(response.status_code )\n",
    "        if response.status_code != 200:\n",
    "            return []\n",
    "            \n",
    "        soup = BeautifulSoup(response.text, 'html.parser')\n",
    "        jobs = soup.find_all('div', class_='job-description-wrapper')\n",
    "        print(len( jobs))\n",
    "        #print(jobs[0])\n",
    "        if len( jobs)<=0:\n",
    "            return []\n",
    "        data_dir={}\n",
    "        for job in jobs:\n",
    "            info_job=job.find('div', class_='job-title')\n",
    "            title_elem=job.find('h5')\n",
    "            title = job.find('h5').text.strip()if title_elem else ' '\n",
    "            \n",
    "\n",
    "            \n",
    "            date_company_name=job.find('p',class_='job-recruiter')\n",
    "            \n",
    "            if date_company_name:\n",
    "                date_company_name_text=date_company_name.text.strip()\n",
    "                date ,company_name_text=date_company_name_text.split('|')\n",
    "                \n",
    "            description_elem= job.find('div', class_='search-description')\n",
    "            \n",
    "            description=job.find('div', class_='search-description').text.strip()if description_elem else ' '\n",
    "            Region_elem= job.find_all('p')[1]\n",
    "            \n",
    "            Region=job.find_all('p')[1].text.strip().split(':')[1]if Region_elem  else ' '\n",
    "            recs_tage=job.find('div', class_='job-tags')\n",
    "            \n",
    "            \n",
    "            Competence=job.find('div', class_='job-tags').text.strip().split(':')[1]if recs_tage  else ' '\n",
    "            data_dir={'title':title ,'company_name':company_name_text if company_name_text else ' ','description':description,'posted_date:':date if date else ' ','Region':Region,'Competence':Competence}\n",
    "            data.append(data_dir) \n",
    "            \n",
    "        return data"
   ]
  },
  {
   "cell_type": "code",
   "execution_count": 128,
   "id": "55e354d1-5dde-4fa9-be0c-302dbfaf6f09",
   "metadata": {
    "scrolled": true
   },
   "outputs": [
    {
     "name": "stdout",
     "output_type": "stream",
     "text": [
      "https://web.archive.org/web/20230321235536/https://www.emploi.ma/recherche-jobs-maroc?f%5B0%5D=im_field_offre_metiers%3A31\n",
      "200\n",
      "25\n",
      "[{'title': 'Chef de Projet MOA/MOE Trade & Finance', 'company_name': ' RED TIC', 'description': 'Missions :Gestion et suivi du projet,Gestion de la relation projet avec les différents acteurs projet internes et externesCadrage...', 'posted_date:': '21.03.2023 ', 'Region': ' Casablanca-Mohammedia', 'Competence': ' '}, {'title': 'Ingénieur Pré-production / Intégrateur Technique (H/F)', 'company_name': ' OBJECTWARE NE', 'description': \"Le Groupe Objectware fondé en 1999 est une ESN (Entreprise de Services du Numérique) spécialisée dans le Conseil et l'Ingénierie en...\", 'posted_date:': '21.03.2023 ', 'Region': ' Agadir - Béni Mellal-Khénifra - Casablanca-Mohammedia - Dakhla -...', 'Competence': ' APACHE CFT JBOSS MONGODB ORACLE POWERSHELL REDHAT SHELL SWIFT TOMCAT WEBLOGIC'}, {'title': \"Ingénieur d'Etude et de Développement C#/.NET (H/F)\", 'company_name': ' OBJECTWARE NE', 'description': \"Le Groupe Objectware fondé en 1999 est une ESN (Entreprise de Services du Numérique) spécialisée dans le Conseil et l'Ingénierie en...\", 'posted_date:': '21.03.2023 ', 'Region': ' Agadir - Béni Mellal-Khénifra - Casablanca-Mohammedia - Dakhla -...', 'Competence': ' C# NET'}, {'title': 'Développeur Sage X3 (H/F)', 'company_name': ' INTEGRA', 'description': 'Pour le renforcement de son équipe développement Sage X3, INTEGRA recherche son futur\\xa0\\xa0Développeur Sage X3 (H/F) (Talent Analyste...', 'posted_date:': '21.03.2023 ', 'Region': ' Agadir - Béni Mellal-Khénifra - Casablanca-Mohammedia - Dakhla -...', 'Competence': ' INTEGRA SAGE SQL'}, {'title': 'Data Officer', 'company_name': ' ATIRES PARTNERS', 'description': 'Our client, full-service leasing, is looking for a Data Officer in Casablanca.Data Protection and Privacy :You will implement and...', 'posted_date:': '21.03.2023 ', 'Region': ' Casablanca-Mohammedia', 'Competence': ' BIG DATA OPC'}, {'title': 'Ingénieur IT Anglophone', 'company_name': ' RELATS MAROC', 'description': 'Sous la responsabilité du Directeur du site et directeur IT groupe, vos principales missions seront:Configurer/installer le matériel...', 'posted_date:': '21.03.2023 ', 'Region': ' Tanger-Tétouan-Al Hoceïma', 'Competence': ' MICROSOFT SAP'}, {'title': 'Analyste Programmeur WINDEV (H/F)', 'company_name': ' LSI SUD INFORMATIQUE', 'description': 'LSI, éditeur de solutions logicielles pour les métiers des Parfums, de la Cosmétique et des Arômes, propose une offre complète de solutions...', 'posted_date:': '21.03.2023 ', 'Region': ' Agadir - Béni Mellal-Khénifra - Casablanca-Mohammedia - Dakhla -...', 'Competence': ' MICROSOFT MYSQL ORACLE SQL WINDEV'}, {'title': 'Consultant Senior C#/.NET (H/F)', 'company_name': ' CODAGILE', 'description': 'Nous sommes une société de conseil technologique offrant des services et des solutions en nouvelles technologies et en développement...', 'posted_date:': '21.03.2023 ', 'Region': ' Rabat-Salé-Kénitra', 'Competence': ' C# NET'}, {'title': 'Développeur .NET / C# - Agadir', 'company_name': ' USELEKT', 'description': 'Nous recherchons un\\xa0Développeur .NET / C#\\xa0\\xa0basé à Agadir.\\xa0Missions :Développement de logiciels en C# / Winforms\\xa0...', 'posted_date:': '21.03.2023 ', 'Region': ' Agadir', 'Competence': ' C# ENTITY FRAMEWORK FOUNDATION NET SQL WINFORMS'}, {'title': 'Business Solutions Analyst', 'company_name': ' N.C.', 'description': \"Nous sommes à la recherche pour notre entreprise spécialisée dans plusieurs secteurs d'activité un Business Solutions Analyst (H/F) qui...\", 'posted_date:': '21.03.2023 ', 'Region': ' Casablanca-Mohammedia', 'Competence': ' BI SAP'}, {'title': 'Key User SAP', 'company_name': ' TECTRA CASA TERTIAIRE – RECRUTEMENT', 'description': 'Tâches régulières :Fournir une assistance quotidienne aux utilisateurs finauxOrganiser et animer des réunions et des ateliers régulières...', 'posted_date:': '21.03.2023 ', 'Region': ' Casablanca-Mohammedia', 'Competence': ' BI CARL MAXIMO SAP'}, {'title': 'Ingénieur de Production (H/F)', 'company_name': ' OBJECTWARE NE', 'description': \"Le Groupe Objectware fondé en 1999 est une ESN (Entreprise de Services du Numérique) spécialisée dans le Conseil et l'Ingénierie en...\", 'posted_date:': '21.03.2023 ', 'Region': ' Agadir - Béni Mellal-Khénifra - Casablanca-Mohammedia - Dakhla -...', 'Competence': ' AUTOSYS BATCH INFRASTRUCTURE INGÉNIERIE DE PRODUCTION POWERSHELL SHELL SQL'}, {'title': \"Ingénieur d'Etude et de Développement Cobol (H/F)\", 'company_name': ' OBJECTWARE NE', 'description': \"Le Groupe Objectware fondé en 1999 est une ESN (Entreprise de Services du Numérique) spécialisée dans le Conseil et l'Ingénierie en...\", 'posted_date:': '21.03.2023 ', 'Region': ' Agadir - Béni Mellal-Khénifra - Casablanca-Mohammedia - Dakhla -...', 'Competence': ' COBOL'}, {'title': 'Scrum Master', 'company_name': ' RED TIC', 'description': 'Attaché à une Tribe au sein de la SU COO-Tech, Mode de delivery AGILE GOLD avec devs in house.Les principales missions du Scrum Master :...', 'posted_date:': '21.03.2023 ', 'Region': ' Casablanca-Mohammedia', 'Competence': ' AGILE GOLD JIRA SCRUM'}, {'title': 'Head Of Sales NI', 'company_name': ' NERA TELECOMMUNICATIONS', 'description': 'JOB TITLE\\xa0\\xa0 \\xa0\\xa0\\xa0 \\xa0:\\xa0\\xa0 \\xa0Head of Sales NI\\xa0REPORTING LINE\\xa0\\xa0 \\xa0:\\xa0\\xa0...', 'posted_date:': '21.03.2023 ', 'Region': ' Casablanca-Mohammedia', 'Competence': ' BUSINESS ADMINISTRATION MANAGEMENT MICROSOFT VENTE'}, {'title': 'Informaticien (H/F) - Casablanca', 'company_name': ' GROUPE TECTRA', 'description': 'Tectra Maroc recrute pour son client, une entreprise de service basée à CASABLANCA, un/e informaticienLes missions principales sont:- La...', 'posted_date:': '20.03.2023 ', 'Region': ' Casablanca-Mohammedia', 'Competence': ' '}, {'title': 'Intégrateur Technique (H/F)', 'company_name': ' OBJECTWARE NE', 'description': \"Le Groupe Objectware fondé en 1999 est une ESN (Entreprise de Services du Numérique) spécialisée dans le Conseil et l'Ingénierie en...\", 'posted_date:': '18.03.2023 ', 'Region': ' Agadir - Béni Mellal-Khénifra - Casablanca-Mohammedia - Dakhla -...', 'Competence': ' APACHE CFT JBOSS MONGODB ORACLE POWERSHELL REDHAT SHELL SWIFT TOMCAT WEBLOGIC'}, {'title': 'Consultant\\xa0Infra Système, Virtualisation et Sauvegarde', 'company_name': ' VISION BUSINESS CONSULTING', 'description': \"Dans le cadre de l'accompagnement de l'un de nos clients BANCAIRE, nous sommes à la recherche d'un Consultant Infrastructure...\", 'posted_date:': '17.03.2023 ', 'Region': ' Casablanca-Mohammedia', 'Competence': ' CENTOS GPO LINUX NETBACKUP REDHAT RSA SQL SUSE TSM VEEAM VMWARE'}, {'title': 'Data Base Administrator (DBA) - CDI / Casablanca', 'company_name': ' AFRICAWORK', 'description': 'Leader mondial dans le domaine de solutions et services d’authentification, de marquage, de traçabilité et de détection des fraudes,...', 'posted_date:': '17.03.2023 ', 'Region': ' Agadir - Béni Mellal-Khénifra - Casablanca-Mohammedia - Dakhla -...', 'Competence': ' ETL LINUX MICROSOFT MYSQL ORACLE PL SQL POSTGRESQL RAC RMAN SHELL SQL STAR'}, {'title': \"Vigie - Pilote de Flux en Centre d'Appels\", 'company_name': ' LYCAMOBILE', 'description': \"Nous sommes à la recherche d'un\\xa0Vigie - Pilote de Flux pour notre centre d'appels, en shift de nuit.Missions :Votre mission...\", 'posted_date:': '17.03.2023 ', 'Region': ' Casablanca-Mohammedia', 'Competence': ' EXCEL MICROSOFT'}, {'title': 'Technicien IT', 'company_name': ' TECTRA CASA TERTIAIRE – RECRUTEMENT', 'description': 'Missions :Gestion, installation et maintenance du matériel informatique (postes\\xa0informatiques, périphériques) ;Administration et...', 'posted_date:': '17.03.2023 ', 'Region': ' Casablanca-Mohammedia', 'Competence': ' LINUX MAC MAC OS'}, {'title': 'Ingénieur Réseau de Transmission DVP/IP - Casablanca', 'company_name': ' DAMA', 'description': 'DAMA recrute pour le compte de SOREAD 2M, un(e) Ingénieur Réseau de transmission DVP/IP sur la ville de Casablanca.\\ufeff\\ufeffMissions :Coordination...', 'posted_date:': '17.03.2023 ', 'Region': ' Casablanca-Mohammedia', 'Competence': ' '}, {'title': 'Ingénieur Réseau de Télédiffusion - Casablanca', 'company_name': ' DAMA', 'description': 'DAMA recrute pour le compte de SOREAD 2M, un(e) Ingénieur Réseau de Télédiffusion sur la ville de Casablanca.Missions :Assurer la...', 'posted_date:': '17.03.2023 ', 'Region': ' Casablanca-Mohammedia', 'Competence': ' '}, {'title': 'Finance Support Analyst (SAP)', 'company_name': ' TECTRA CASA TERTIAIRE – RECRUTEMENT', 'description': 'Tâches régulières :Fournir une assistance quotidienne aux utilisateurs finauxOrganiser et animer des réunions et des ateliers régulières...', 'posted_date:': '17.03.2023 ', 'Region': ' Casablanca-Mohammedia', 'Competence': ' BI CARL MAXIMO SAP'}, {'title': 'Data Protection Officer', 'company_name': ' ATIRES PARTNERS', 'description': 'International firm, full-service leasing, is looking for a\\xa0Data Protection Officer in Casablanca.Data Protection and\\xa0Privacy :You...', 'posted_date:': '17.03.2023 ', 'Region': ' Casablanca-Mohammedia', 'Competence': ' BIG DATA DATACOM INTELLIGENCE MARKETING MANAGEMENT OPC PYTHON'}]\n"
     ]
    }
   ],
   "source": [
    "data=scrape_jobs_web_archive('https://web.archive.org/web/20230321235536/https://www.emploi.ma/recherche-jobs-maroc?f%5B0%5D=im_field_offre_metiers%3A31')\n"
   ]
  },
  {
   "cell_type": "code",
   "execution_count": 122,
   "id": "a0ea8420-9b6f-4a57-9a55-dc5bd2ef7bae",
   "metadata": {},
   "outputs": [],
   "source": [
    "urls=['https://web.archive.org/web/20200807181127/https://www.emploi.ma/recherche-jobs-maroc/?f%5B0%5D=im_field_offre_secteur%3A133',\n",
    "     'https://web.archive.org/web/20201027180843/https://www.emploi.ma/recherche-jobs-maroc/?f%5B0%5D=im_field_offre_secteur%3A133',\n",
    "     'https://web.archive.org/web/20201029133125/https://www.emploi.ma/recherche-jobs-maroc/?f%5B0%5D=im_field_offre_secteur%3A133',\n",
    "     'https://web.archive.org/web/20200627113016/https://www.emploi.ma/recherche-jobs-maroc/?f[0]=im_field_offre_metiers%3A31',\n",
    "    'https://web.archive.org/web/20200921153720/https://www.emploi.ma/recherche-jobs-maroc/?f[0]=im_field_offre_metiers%3A31',\n",
    "     'https://web.archive.org/web/20201202032249/https://www.emploi.ma/recherche-jobs-maroc/?f[0]=im_field_offre_metiers%3A31',\n",
    "         'https://web.archive.org/web/20210225185911/https://www.emploi.ma/recherche-jobs-maroc?f%5B0%5D=im_field_offre_metiers%3A31',\n",
    "         'https://web.archive.org/web/20210307052448/https://www.emploi.ma/recherche-jobs-maroc/?f%5B0%5D=im_field_offre_metiers%3A31',\n",
    "          'https://web.archive.org/web/20210806031614/https://www.emploi.ma/recherche-jobs-maroc?f%5B0%5D=im_field_offre_metiers%3A31',\n",
    "          'https://web.archive.org/web/20210825204929/https://www.emploi.ma/recherche-jobs-maroc/?f[0]=im_field_offre_metiers%3A31',\n",
    "          'https://web.archive.org/web/20211017122731/https://www.emploi.ma/recherche-jobs-maroc?f%5B0%5D=im_field_offre_metiers%3A31',\n",
    "          'https://web.archive.org/web/20210509163857/https://www.emploi.ma/recherche-jobs-maroc?f%5B0%5D=im_field_offre_metiers%3A31'\n",
    "          ,'https://web.archive.org/web/20220123120922/https://www.emploi.ma/recherche-jobs-maroc?f%5B0%5D=im_field_offre_metiers%3A31',\n",
    "          'https://web.archive.org/web/20220706005807/https://www.emploi.ma/recherche-jobs-maroc?f%5B0%5D=im_field_offre_metiers%3A31',\n",
    "          'https://web.archive.org/web/20221207031954/https://www.emploi.ma/recherche-jobs-maroc?f%5B0%5D=im_field_offre_metiers%3A31',\n",
    "          'https://web.archive.org/web/20230321235536/https://www.emploi.ma/recherche-jobs-maroc?f%5B0%5D=im_field_offre_metiers%3A31',\n",
    "          'https://web.archive.org/web/20230321235536/https://www.emploi.ma/recherche-jobs-maroc?f%5B0%5D=im_field_offre_metiers%3A31',\n",
    "          'https://web.archive.org/web/20230502074248/https://www.emploi.ma/recherche-jobs-maroc?f%5B0%5D=im_field_offre_metiers%3A31',\n",
    "          'https://web.archive.org/web/20230520064925/https://www.emploi.ma/recherche-jobs-maroc?f%5B0%5D=im_field_offre_secteur%3A133',\n",
    "          'https://web.archive.org/web/20230716131741/https://www.emploi.ma/recherche-jobs-maroc?f%5B0%5D=im_field_offre_secteur%3A133',\n",
    "          'https://web.archive.org/web/20230813110202/https://www.emploi.ma/recherche-jobs-maroc?f%5B0%5D=im_field_offre_secteur%3A133',\n",
    "          'https://web.archive.org/web/20230921115740/https://www.emploi.ma/recherche-jobs-maroc?f%5B0%5D=im_field_offre_secteur%3A133',\n",
    "          'https://web.archive.org/web/20231231152310/https://www.emploi.ma/recherche-jobs-maroc?f%5B0%5D=im_field_offre_secteur%3A133',\n",
    "          'https://web.archive.org/web/20240325063651/https://www.emploi.ma/recherche-jobs-maroc?f%5B0%5D=im_field_offre_secteur%3A133',\n",
    "          'https://web.archive.org/web/20240407204000/https://www.emploi.ma/recherche-jobs-maroc?f%5B0%5D=im_field_offre_secteur%3A133',\n",
    "          'https://web.archive.org/web/20240502195648/https://www.emploi.ma/recherche-jobs-maroc?f%5B0%5D=im_field_offre_secteur%3A133',\n",
    "\n",
    "         ] "
   ]
  },
  {
   "cell_type": "code",
   "execution_count": 129,
   "id": "2affe1d8-c11c-4485-924c-00c0c93b7a15",
   "metadata": {},
   "outputs": [
    {
     "name": "stdout",
     "output_type": "stream",
     "text": [
      "https://web.archive.org/web/20200807181127/https://www.emploi.ma/recherche-jobs-maroc/?f%5B0%5D=im_field_offre_secteur%3A133\n",
      "200\n",
      "25\n",
      "https://web.archive.org/web/20201027180843/https://www.emploi.ma/recherche-jobs-maroc/?f%5B0%5D=im_field_offre_secteur%3A133\n",
      "200\n",
      "25\n",
      "https://web.archive.org/web/20201029133125/https://www.emploi.ma/recherche-jobs-maroc/?f%5B0%5D=im_field_offre_secteur%3A133\n",
      "200\n",
      "25\n",
      "https://web.archive.org/web/20200627113016/https://www.emploi.ma/recherche-jobs-maroc/?f[0]=im_field_offre_metiers%3A31\n",
      "200\n",
      "25\n",
      "https://web.archive.org/web/20200921153720/https://www.emploi.ma/recherche-jobs-maroc/?f[0]=im_field_offre_metiers%3A31\n",
      "200\n",
      "25\n",
      "https://web.archive.org/web/20201202032249/https://www.emploi.ma/recherche-jobs-maroc/?f[0]=im_field_offre_metiers%3A31\n",
      "200\n",
      "25\n",
      "https://web.archive.org/web/20210225185911/https://www.emploi.ma/recherche-jobs-maroc?f%5B0%5D=im_field_offre_metiers%3A31\n",
      "200\n",
      "25\n",
      "https://web.archive.org/web/20210307052448/https://www.emploi.ma/recherche-jobs-maroc/?f%5B0%5D=im_field_offre_metiers%3A31\n",
      "200\n",
      "25\n",
      "https://web.archive.org/web/20210806031614/https://www.emploi.ma/recherche-jobs-maroc?f%5B0%5D=im_field_offre_metiers%3A31\n",
      "200\n",
      "25\n",
      "https://web.archive.org/web/20210825204929/https://www.emploi.ma/recherche-jobs-maroc/?f[0]=im_field_offre_metiers%3A31\n",
      "200\n",
      "25\n",
      "https://web.archive.org/web/20211017122731/https://www.emploi.ma/recherche-jobs-maroc?f%5B0%5D=im_field_offre_metiers%3A31\n",
      "200\n",
      "25\n",
      "https://web.archive.org/web/20210509163857/https://www.emploi.ma/recherche-jobs-maroc?f%5B0%5D=im_field_offre_metiers%3A31\n",
      "200\n",
      "25\n",
      "https://web.archive.org/web/20220123120922/https://www.emploi.ma/recherche-jobs-maroc?f%5B0%5D=im_field_offre_metiers%3A31\n",
      "200\n",
      "25\n",
      "https://web.archive.org/web/20220706005807/https://www.emploi.ma/recherche-jobs-maroc?f%5B0%5D=im_field_offre_metiers%3A31\n",
      "200\n",
      "25\n",
      "https://web.archive.org/web/20221207031954/https://www.emploi.ma/recherche-jobs-maroc?f%5B0%5D=im_field_offre_metiers%3A31\n",
      "200\n",
      "25\n",
      "https://web.archive.org/web/20230321235536/https://www.emploi.ma/recherche-jobs-maroc?f%5B0%5D=im_field_offre_metiers%3A31\n",
      "200\n",
      "25\n",
      "https://web.archive.org/web/20230321235536/https://www.emploi.ma/recherche-jobs-maroc?f%5B0%5D=im_field_offre_metiers%3A31\n",
      "200\n",
      "25\n",
      "https://web.archive.org/web/20230502074248/https://www.emploi.ma/recherche-jobs-maroc?f%5B0%5D=im_field_offre_metiers%3A31\n",
      "200\n",
      "25\n",
      "https://web.archive.org/web/20230520064925/https://www.emploi.ma/recherche-jobs-maroc?f%5B0%5D=im_field_offre_secteur%3A133\n",
      "200\n",
      "25\n",
      "https://web.archive.org/web/20230716131741/https://www.emploi.ma/recherche-jobs-maroc?f%5B0%5D=im_field_offre_secteur%3A133\n",
      "200\n",
      "25\n",
      "https://web.archive.org/web/20230813110202/https://www.emploi.ma/recherche-jobs-maroc?f%5B0%5D=im_field_offre_secteur%3A133\n",
      "200\n",
      "25\n",
      "https://web.archive.org/web/20230921115740/https://www.emploi.ma/recherche-jobs-maroc?f%5B0%5D=im_field_offre_secteur%3A133\n",
      "200\n",
      "25\n",
      "https://web.archive.org/web/20231231152310/https://www.emploi.ma/recherche-jobs-maroc?f%5B0%5D=im_field_offre_secteur%3A133\n",
      "200\n",
      "25\n",
      "https://web.archive.org/web/20240325063651/https://www.emploi.ma/recherche-jobs-maroc?f%5B0%5D=im_field_offre_secteur%3A133\n",
      "200\n",
      "25\n",
      "https://web.archive.org/web/20240407204000/https://www.emploi.ma/recherche-jobs-maroc?f%5B0%5D=im_field_offre_secteur%3A133\n",
      "200\n",
      "25\n",
      "https://web.archive.org/web/20240502195648/https://www.emploi.ma/recherche-jobs-maroc?f%5B0%5D=im_field_offre_secteur%3A133\n",
      "200\n",
      "25\n"
     ]
    }
   ],
   "source": [
    "data= []\n",
    "for url in urls:\n",
    "    time.sleep(10)  \n",
    "    data+=scrape_jobs_web_archive(url)"
   ]
  },
  {
   "cell_type": "code",
   "execution_count": 130,
   "id": "a1f91429-19c5-4668-b4cb-425a5909e61c",
   "metadata": {},
   "outputs": [
    {
     "name": "stdout",
     "output_type": "stream",
     "text": [
      "650\n"
     ]
    }
   ],
   "source": [
    "print(len(data))"
   ]
  },
  {
   "cell_type": "code",
   "execution_count": null,
   "id": "4a295a74-616d-4e86-90a4-d5343f190930",
   "metadata": {},
   "outputs": [
    {
     "name": "stdout",
     "output_type": "stream",
     "text": [
      "                         title        company_name  \\\n",
      "count                      650                 650   \n",
      "unique                     502                 126   \n",
      "top     Chargée de Recrutement   JOB DEVELOPPEMENT   \n",
      "freq                         6                  78   \n",
      "\n",
      "                                              description posted_date:  \\\n",
      "count                                                 650          650   \n",
      "unique                                                483          121   \n",
      "top     SANS frais de dossier et SANS proposition de f...  21.03.2023    \n",
      "freq                                                   16           30   \n",
      "\n",
      "                        Region Competence  \n",
      "count                      650        650  \n",
      "unique                      30        179  \n",
      "top      Casablanca-Mohammedia             \n",
      "freq                       188        402  \n"
     ]
    }
   ],
   "source": [
    "df= pd.DataFrame(data)\n",
    "df.describe()"
   ]
  },
  {
   "cell_type": "code",
   "execution_count": 136,
   "id": "85d6eb5d-aa52-4ed6-aad4-18ae4a49c077",
   "metadata": {},
   "outputs": [],
   "source": [
    "df.to_csv('emploi_old.csv', index=False)\n"
   ]
  },
  {
   "cell_type": "code",
   "execution_count": null,
   "id": "afa962a8-1f55-430c-8973-24da3b53c00c",
   "metadata": {},
   "outputs": [],
   "source": []
  },
  {
   "cell_type": "code",
   "execution_count": null,
   "id": "c8ef47a2-c28c-4ef5-912f-c221fe230a2d",
   "metadata": {},
   "outputs": [],
   "source": []
  }
 ],
 "metadata": {
  "kernelspec": {
   "display_name": "Python [conda env:base] *",
   "language": "python",
   "name": "conda-base-py"
  },
  "language_info": {
   "codemirror_mode": {
    "name": "ipython",
    "version": 3
   },
   "file_extension": ".py",
   "mimetype": "text/x-python",
   "name": "python",
   "nbconvert_exporter": "python",
   "pygments_lexer": "ipython3",
   "version": "3.12.7"
  }
 },
 "nbformat": 4,
 "nbformat_minor": 5
}
