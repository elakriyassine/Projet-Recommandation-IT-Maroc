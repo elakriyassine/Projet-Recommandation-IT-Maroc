{
 "cells": [
  {
   "cell_type": "code",
   "execution_count": 2,
   "id": "58955d64-5dba-4ffe-94a8-c05fbb7036c4",
   "metadata": {},
   "outputs": [],
   "source": [
    "import pandas as pd"
   ]
  },
  {
   "cell_type": "code",
   "execution_count": 3,
   "id": "70322a01-8069-4348-a31c-bae0f7c0f593",
   "metadata": {},
   "outputs": [],
   "source": [
    "\n",
    "df1 = pd.read_csv('rekrutedatasete1.csv')  \n",
    "df2 = pd.read_csv('emploi2.csv') \n",
    "df3 = pd.read_csv('rekrutedatasete2.csv')  "
   ]
  },
  {
   "cell_type": "code",
   "execution_count": 5,
   "id": "42d0e706-d9b8-41a1-aa5a-5ed4178b4313",
   "metadata": {},
   "outputs": [
    {
     "data": {
      "text/plain": [
       "['title',\n",
       " 'posted_date',\n",
       " \"niveau d'études requis\",\n",
       " 'Competence',\n",
       " 'company_name',\n",
       " 'company_description',\n",
       " 'requirements',\n",
       " 'Region',\n",
       " 'id',\n",
       " 'url',\n",
       " 'sector',\n",
       " 'end_date',\n",
       " 'number_of_positions',\n",
       " 'remote_work',\n",
       " 'posted_date:',\n",
       " 'description',\n",
       " \"niveau d'expérience\",\n",
       " 'contract_type']"
      ]
     },
     "execution_count": 5,
     "metadata": {},
     "output_type": "execute_result"
    }
   ],
   "source": [
    "all_columns = list(set(df1.columns) | set(df2.columns) | set(df3.columns))\n",
    "all_columns"
   ]
  },
  {
   "cell_type": "code",
   "execution_count": 6,
   "id": "d7aa61da-429f-404d-a5a1-545358fbdd67",
   "metadata": {},
   "outputs": [],
   "source": [
    "\n",
    "dfs = []\n",
    "for df in [df1, df2, df3]:\n",
    "    standardized_df = pd.DataFrame(columns=all_columns)\n",
    "    for col in all_columns:\n",
    "        if col in df.columns:\n",
    "            standardized_df[col] = df[col]\n",
    "    dfs.append(standardized_df)"
   ]
  },
  {
   "cell_type": "code",
   "execution_count": 7,
   "id": "46c63eba-0ab8-403d-97f0-de90650d145c",
   "metadata": {},
   "outputs": [
    {
     "name": "stderr",
     "output_type": "stream",
     "text": [
      "C:\\Users\\yasse\\AppData\\Local\\Temp\\ipykernel_33704\\4271946925.py:2: FutureWarning: The behavior of DataFrame concatenation with empty or all-NA entries is deprecated. In a future version, this will no longer exclude empty or all-NA columns when determining the result dtypes. To retain the old behavior, exclude the relevant entries before the concat operation.\n",
      "  merged_df = pd.concat(dfs, ignore_index=True)\n"
     ]
    }
   ],
   "source": [
    "merged_df = pd.concat(dfs, ignore_index=True)\n",
    "\n"
   ]
  },
  {
   "cell_type": "code",
   "execution_count": 8,
   "id": "f386680c-11c4-4b20-922e-e007e47ebf46",
   "metadata": {},
   "outputs": [],
   "source": [
    "\n",
    "merged_df.to_csv('merged_jobs.csv', index=False)"
   ]
  },
  {
   "cell_type": "code",
   "execution_count": null,
   "id": "12e04fb7-af2c-4229-a54a-a7ad740d90ed",
   "metadata": {},
   "outputs": [],
   "source": []
  }
 ],
 "metadata": {
  "kernelspec": {
   "display_name": "Python [conda env:base] *",
   "language": "python",
   "name": "conda-base-py"
  },
  "language_info": {
   "codemirror_mode": {
    "name": "ipython",
    "version": 3
   },
   "file_extension": ".py",
   "mimetype": "text/x-python",
   "name": "python",
   "nbconvert_exporter": "python",
   "pygments_lexer": "ipython3",
   "version": "3.12.7"
  }
 },
 "nbformat": 4,
 "nbformat_minor": 5
}
